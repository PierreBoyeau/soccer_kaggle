{
 "cells": [
  {
   "cell_type": "code",
   "execution_count": 60,
   "metadata": {
    "collapsed": true
   },
   "outputs": [],
   "source": [
    "%matplotlib inline\n",
    "\n",
    "import numpy as np\n",
    "import matplotlib.pyplot as plt\n",
    "import seaborn as sns\n",
    "import pandas as pd\n",
    "import sqlite3\n",
    "import numpy as np\n",
    "\n",
    "\n",
    "from sklearn.model_selection import train_test_split\n",
    "from sklearn.utils import shuffle\n",
    "from sklearn.ensemble import RandomForestClassifier"
   ]
  },
  {
   "cell_type": "code",
   "execution_count": 2,
   "metadata": {
    "collapsed": false
   },
   "outputs": [],
   "source": [
    "conn = sqlite3.connect('soccer/database.sqlite')\n",
    "player_data = pd.read_sql(\"SELECT * FROM Player;\", conn)\n",
    "player_stats_data = pd.read_sql(\"SELECT * FROM Player_Attributes;\", conn)\n",
    "team_data = pd.read_sql(\"SELECT * FROM Team;\", conn)\n",
    "match_data = pd.read_sql(\"SELECT * FROM Match;\", conn)"
   ]
  },
  {
   "cell_type": "code",
   "execution_count": 12,
   "metadata": {
    "collapsed": false
   },
   "outputs": [
    {
     "name": "stdout",
     "output_type": "stream",
     "text": [
      "<class 'pandas.core.frame.DataFrame'>\n",
      "RangeIndex: 11060 entries, 0 to 11059\n",
      "Data columns (total 7 columns):\n",
      "id                    11060 non-null int64\n",
      "player_api_id         11060 non-null int64\n",
      "player_name           11060 non-null object\n",
      "player_fifa_api_id    11060 non-null int64\n",
      "birthday              11060 non-null object\n",
      "height                11060 non-null float64\n",
      "weight                11060 non-null int64\n",
      "dtypes: float64(1), int64(4), object(2)\n",
      "memory usage: 604.9+ KB\n",
      "None \n",
      "\n",
      "<class 'pandas.core.frame.DataFrame'>\n",
      "RangeIndex: 183978 entries, 0 to 183977\n",
      "Data columns (total 42 columns):\n",
      "id                     183978 non-null int64\n",
      "player_fifa_api_id     183978 non-null int64\n",
      "player_api_id          183978 non-null int64\n",
      "date                   183978 non-null object\n",
      "overall_rating         183142 non-null float64\n",
      "potential              183142 non-null float64\n",
      "preferred_foot         183142 non-null object\n",
      "attacking_work_rate    180748 non-null object\n",
      "defensive_work_rate    183142 non-null object\n",
      "crossing               183142 non-null float64\n",
      "finishing              183142 non-null float64\n",
      "heading_accuracy       183142 non-null float64\n",
      "short_passing          183142 non-null float64\n",
      "volleys                181265 non-null float64\n",
      "dribbling              183142 non-null float64\n",
      "curve                  181265 non-null float64\n",
      "free_kick_accuracy     183142 non-null float64\n",
      "long_passing           183142 non-null float64\n",
      "ball_control           183142 non-null float64\n",
      "acceleration           183142 non-null float64\n",
      "sprint_speed           183142 non-null float64\n",
      "agility                181265 non-null float64\n",
      "reactions              183142 non-null float64\n",
      "balance                181265 non-null float64\n",
      "shot_power             183142 non-null float64\n",
      "jumping                181265 non-null float64\n",
      "stamina                183142 non-null float64\n",
      "strength               183142 non-null float64\n",
      "long_shots             183142 non-null float64\n",
      "aggression             183142 non-null float64\n",
      "interceptions          183142 non-null float64\n",
      "positioning            183142 non-null float64\n",
      "vision                 181265 non-null float64\n",
      "penalties              183142 non-null float64\n",
      "marking                183142 non-null float64\n",
      "standing_tackle        183142 non-null float64\n",
      "sliding_tackle         181265 non-null float64\n",
      "gk_diving              183142 non-null float64\n",
      "gk_handling            183142 non-null float64\n",
      "gk_kicking             183142 non-null float64\n",
      "gk_positioning         183142 non-null float64\n",
      "gk_reflexes            183142 non-null float64\n",
      "dtypes: float64(35), int64(3), object(4)\n",
      "memory usage: 59.0+ MB\n",
      "None \n",
      "\n",
      "<class 'pandas.core.frame.DataFrame'>\n",
      "RangeIndex: 299 entries, 0 to 298\n",
      "Data columns (total 5 columns):\n",
      "id                  299 non-null int64\n",
      "team_api_id         299 non-null int64\n",
      "team_fifa_api_id    288 non-null float64\n",
      "team_long_name      299 non-null object\n",
      "team_short_name     299 non-null object\n",
      "dtypes: float64(1), int64(2), object(2)\n",
      "memory usage: 11.8+ KB\n",
      "None \n",
      "\n",
      "<class 'pandas.core.frame.DataFrame'>\n",
      "RangeIndex: 25979 entries, 0 to 25978\n",
      "Data columns (total 115 columns):\n",
      "id                  int64\n",
      "country_id          int64\n",
      "league_id           int64\n",
      "season              object\n",
      "stage               int64\n",
      "date                object\n",
      "match_api_id        int64\n",
      "home_team_api_id    int64\n",
      "away_team_api_id    int64\n",
      "home_team_goal      int64\n",
      "away_team_goal      int64\n",
      "home_player_X1      float64\n",
      "home_player_X2      float64\n",
      "home_player_X3      float64\n",
      "home_player_X4      float64\n",
      "home_player_X5      float64\n",
      "home_player_X6      float64\n",
      "home_player_X7      float64\n",
      "home_player_X8      float64\n",
      "home_player_X9      float64\n",
      "home_player_X10     float64\n",
      "home_player_X11     float64\n",
      "away_player_X1      float64\n",
      "away_player_X2      float64\n",
      "away_player_X3      float64\n",
      "away_player_X4      float64\n",
      "away_player_X5      float64\n",
      "away_player_X6      float64\n",
      "away_player_X7      float64\n",
      "away_player_X8      float64\n",
      "away_player_X9      float64\n",
      "away_player_X10     float64\n",
      "away_player_X11     float64\n",
      "home_player_Y1      float64\n",
      "home_player_Y2      float64\n",
      "home_player_Y3      float64\n",
      "home_player_Y4      float64\n",
      "home_player_Y5      float64\n",
      "home_player_Y6      float64\n",
      "home_player_Y7      float64\n",
      "home_player_Y8      float64\n",
      "home_player_Y9      float64\n",
      "home_player_Y10     float64\n",
      "home_player_Y11     float64\n",
      "away_player_Y1      float64\n",
      "away_player_Y2      float64\n",
      "away_player_Y3      float64\n",
      "away_player_Y4      float64\n",
      "away_player_Y5      float64\n",
      "away_player_Y6      float64\n",
      "away_player_Y7      float64\n",
      "away_player_Y8      float64\n",
      "away_player_Y9      float64\n",
      "away_player_Y10     float64\n",
      "away_player_Y11     float64\n",
      "home_player_1       float64\n",
      "home_player_2       float64\n",
      "home_player_3       float64\n",
      "home_player_4       float64\n",
      "home_player_5       float64\n",
      "home_player_6       float64\n",
      "home_player_7       float64\n",
      "home_player_8       float64\n",
      "home_player_9       float64\n",
      "home_player_10      float64\n",
      "home_player_11      float64\n",
      "away_player_1       float64\n",
      "away_player_2       float64\n",
      "away_player_3       float64\n",
      "away_player_4       float64\n",
      "away_player_5       float64\n",
      "away_player_6       float64\n",
      "away_player_7       float64\n",
      "away_player_8       float64\n",
      "away_player_9       float64\n",
      "away_player_10      float64\n",
      "away_player_11      float64\n",
      "goal                object\n",
      "shoton              object\n",
      "shotoff             object\n",
      "foulcommit          object\n",
      "card                object\n",
      "cross               object\n",
      "corner              object\n",
      "possession          object\n",
      "B365H               float64\n",
      "B365D               float64\n",
      "B365A               float64\n",
      "BWH                 float64\n",
      "BWD                 float64\n",
      "BWA                 float64\n",
      "IWH                 float64\n",
      "IWD                 float64\n",
      "IWA                 float64\n",
      "LBH                 float64\n",
      "LBD                 float64\n",
      "LBA                 float64\n",
      "PSH                 float64\n",
      "PSD                 float64\n",
      "PSA                 float64\n",
      "WHH                 float64\n",
      "WHD                 float64\n",
      "WHA                 float64\n",
      "SJH                 float64\n",
      "SJD                 float64\n",
      "SJA                 float64\n",
      "VCH                 float64\n",
      "VCD                 float64\n",
      "VCA                 float64\n",
      "GBH                 float64\n",
      "GBD                 float64\n",
      "GBA                 float64\n",
      "BSH                 float64\n",
      "BSD                 float64\n",
      "BSA                 float64\n",
      "dtypes: float64(96), int64(9), object(10)\n",
      "memory usage: 22.8+ MB\n",
      "None\n"
     ]
    }
   ],
   "source": [
    "print(player_data.info(), '\\n')\n",
    "print(player_stats_data.info(), '\\n')\n",
    "print(team_data.info(), '\\n')\n",
    "print(match_data.info(verbose=True))"
   ]
  },
  {
   "cell_type": "code",
   "execution_count": 14,
   "metadata": {
    "collapsed": false
   },
   "outputs": [
    {
     "data": {
      "text/html": [
       "<div>\n",
       "<table border=\"1\" class=\"dataframe\">\n",
       "  <thead>\n",
       "    <tr style=\"text-align: right;\">\n",
       "      <th></th>\n",
       "      <th>id</th>\n",
       "      <th>country_id</th>\n",
       "      <th>league_id</th>\n",
       "      <th>season</th>\n",
       "      <th>stage</th>\n",
       "      <th>date</th>\n",
       "      <th>match_api_id</th>\n",
       "      <th>home_team_api_id</th>\n",
       "      <th>away_team_api_id</th>\n",
       "      <th>home_team_goal</th>\n",
       "      <th>...</th>\n",
       "      <th>SJA</th>\n",
       "      <th>VCH</th>\n",
       "      <th>VCD</th>\n",
       "      <th>VCA</th>\n",
       "      <th>GBH</th>\n",
       "      <th>GBD</th>\n",
       "      <th>GBA</th>\n",
       "      <th>BSH</th>\n",
       "      <th>BSD</th>\n",
       "      <th>BSA</th>\n",
       "    </tr>\n",
       "  </thead>\n",
       "  <tbody>\n",
       "    <tr>\n",
       "      <th>0</th>\n",
       "      <td>1</td>\n",
       "      <td>1</td>\n",
       "      <td>1</td>\n",
       "      <td>2008/2009</td>\n",
       "      <td>1</td>\n",
       "      <td>2008-08-17 00:00:00</td>\n",
       "      <td>492473</td>\n",
       "      <td>9987</td>\n",
       "      <td>9993</td>\n",
       "      <td>1</td>\n",
       "      <td>...</td>\n",
       "      <td>4.00</td>\n",
       "      <td>1.65</td>\n",
       "      <td>3.40</td>\n",
       "      <td>4.50</td>\n",
       "      <td>1.78</td>\n",
       "      <td>3.25</td>\n",
       "      <td>4.00</td>\n",
       "      <td>1.73</td>\n",
       "      <td>3.40</td>\n",
       "      <td>4.20</td>\n",
       "    </tr>\n",
       "    <tr>\n",
       "      <th>1</th>\n",
       "      <td>2</td>\n",
       "      <td>1</td>\n",
       "      <td>1</td>\n",
       "      <td>2008/2009</td>\n",
       "      <td>1</td>\n",
       "      <td>2008-08-16 00:00:00</td>\n",
       "      <td>492474</td>\n",
       "      <td>10000</td>\n",
       "      <td>9994</td>\n",
       "      <td>0</td>\n",
       "      <td>...</td>\n",
       "      <td>3.80</td>\n",
       "      <td>2.00</td>\n",
       "      <td>3.25</td>\n",
       "      <td>3.25</td>\n",
       "      <td>1.85</td>\n",
       "      <td>3.25</td>\n",
       "      <td>3.75</td>\n",
       "      <td>1.91</td>\n",
       "      <td>3.25</td>\n",
       "      <td>3.60</td>\n",
       "    </tr>\n",
       "    <tr>\n",
       "      <th>2</th>\n",
       "      <td>3</td>\n",
       "      <td>1</td>\n",
       "      <td>1</td>\n",
       "      <td>2008/2009</td>\n",
       "      <td>1</td>\n",
       "      <td>2008-08-16 00:00:00</td>\n",
       "      <td>492475</td>\n",
       "      <td>9984</td>\n",
       "      <td>8635</td>\n",
       "      <td>0</td>\n",
       "      <td>...</td>\n",
       "      <td>2.50</td>\n",
       "      <td>2.35</td>\n",
       "      <td>3.25</td>\n",
       "      <td>2.65</td>\n",
       "      <td>2.50</td>\n",
       "      <td>3.20</td>\n",
       "      <td>2.50</td>\n",
       "      <td>2.30</td>\n",
       "      <td>3.20</td>\n",
       "      <td>2.75</td>\n",
       "    </tr>\n",
       "    <tr>\n",
       "      <th>3</th>\n",
       "      <td>4</td>\n",
       "      <td>1</td>\n",
       "      <td>1</td>\n",
       "      <td>2008/2009</td>\n",
       "      <td>1</td>\n",
       "      <td>2008-08-17 00:00:00</td>\n",
       "      <td>492476</td>\n",
       "      <td>9991</td>\n",
       "      <td>9998</td>\n",
       "      <td>5</td>\n",
       "      <td>...</td>\n",
       "      <td>7.50</td>\n",
       "      <td>1.45</td>\n",
       "      <td>3.75</td>\n",
       "      <td>6.50</td>\n",
       "      <td>1.50</td>\n",
       "      <td>3.75</td>\n",
       "      <td>5.50</td>\n",
       "      <td>1.44</td>\n",
       "      <td>3.75</td>\n",
       "      <td>6.50</td>\n",
       "    </tr>\n",
       "    <tr>\n",
       "      <th>4</th>\n",
       "      <td>5</td>\n",
       "      <td>1</td>\n",
       "      <td>1</td>\n",
       "      <td>2008/2009</td>\n",
       "      <td>1</td>\n",
       "      <td>2008-08-16 00:00:00</td>\n",
       "      <td>492477</td>\n",
       "      <td>7947</td>\n",
       "      <td>9985</td>\n",
       "      <td>1</td>\n",
       "      <td>...</td>\n",
       "      <td>1.73</td>\n",
       "      <td>4.50</td>\n",
       "      <td>3.40</td>\n",
       "      <td>1.65</td>\n",
       "      <td>4.50</td>\n",
       "      <td>3.50</td>\n",
       "      <td>1.65</td>\n",
       "      <td>4.75</td>\n",
       "      <td>3.30</td>\n",
       "      <td>1.67</td>\n",
       "    </tr>\n",
       "  </tbody>\n",
       "</table>\n",
       "<p>5 rows × 115 columns</p>\n",
       "</div>"
      ],
      "text/plain": [
       "   id  country_id  league_id     season  stage                 date  \\\n",
       "0   1           1          1  2008/2009      1  2008-08-17 00:00:00   \n",
       "1   2           1          1  2008/2009      1  2008-08-16 00:00:00   \n",
       "2   3           1          1  2008/2009      1  2008-08-16 00:00:00   \n",
       "3   4           1          1  2008/2009      1  2008-08-17 00:00:00   \n",
       "4   5           1          1  2008/2009      1  2008-08-16 00:00:00   \n",
       "\n",
       "   match_api_id  home_team_api_id  away_team_api_id  home_team_goal  ...   \\\n",
       "0        492473              9987              9993               1  ...    \n",
       "1        492474             10000              9994               0  ...    \n",
       "2        492475              9984              8635               0  ...    \n",
       "3        492476              9991              9998               5  ...    \n",
       "4        492477              7947              9985               1  ...    \n",
       "\n",
       "    SJA   VCH   VCD   VCA   GBH   GBD   GBA   BSH   BSD   BSA  \n",
       "0  4.00  1.65  3.40  4.50  1.78  3.25  4.00  1.73  3.40  4.20  \n",
       "1  3.80  2.00  3.25  3.25  1.85  3.25  3.75  1.91  3.25  3.60  \n",
       "2  2.50  2.35  3.25  2.65  2.50  3.20  2.50  2.30  3.20  2.75  \n",
       "3  7.50  1.45  3.75  6.50  1.50  3.75  5.50  1.44  3.75  6.50  \n",
       "4  1.73  4.50  3.40  1.65  4.50  3.50  1.65  4.75  3.30  1.67  \n",
       "\n",
       "[5 rows x 115 columns]"
      ]
     },
     "execution_count": 14,
     "metadata": {},
     "output_type": "execute_result"
    }
   ],
   "source": [
    "match_data.head()"
   ]
  },
  {
   "cell_type": "code",
   "execution_count": 48,
   "metadata": {
    "collapsed": false
   },
   "outputs": [],
   "source": [
    "features = ['home_team_goal', \n",
    "        'away_team_goal', \n",
    "        'date', \n",
    "        'B365H',\n",
    "        'B365D',\n",
    "        'B365A',\n",
    "        'BWH',\n",
    "        'BWD',\n",
    "        'BWA',\n",
    "        'IWH',\n",
    "        'IWD',\n",
    "        'IWA',\n",
    "        'LBH',\n",
    "        'LBD',\n",
    "        'LBA',\n",
    "        'PSH',\n",
    "        'PSD',\n",
    "        'PSA',\n",
    "        'WHH',\n",
    "        'WHD',\n",
    "        'WHA',\n",
    "        'SJH',\n",
    "        'SJD',\n",
    "        'SJA',\n",
    "        'VCH',\n",
    "        'VCD',\n",
    "        'VCA',\n",
    "        'GBH',\n",
    "        'GBD',\n",
    "        'GBA',\n",
    "        'BSH',\n",
    "        'BSD',\n",
    "        'BSA']\n",
    "match_df = match_data[features].copy()"
   ]
  },
  {
   "cell_type": "code",
   "execution_count": 49,
   "metadata": {
    "collapsed": false
   },
   "outputs": [],
   "source": [
    "# Computing value to predict\n",
    "match_df['home_wins'] = np.where(match_df['home_team_goal'] > match_df['away_team_goal'], True, False)\n",
    "match_df = match_df.drop(['home_team_goal', 'away_team_goal'], axis=1)"
   ]
  },
  {
   "cell_type": "code",
   "execution_count": 50,
   "metadata": {
    "collapsed": false
   },
   "outputs": [],
   "source": [
    "# Converting date properly\n",
    "match_df[\"date\"] = pd.to_datetime(match_df[\"date\"])\n",
    "match_df[\"year\"] = match_df[\"date\"].dt.year\n",
    "match_df[\"month\"] = match_df[\"date\"].dt.month\n",
    "match_df[\"day\"] = match_df[\"date\"].dt.day\n",
    "match_df = match_df.drop(\"date\", axis=1)"
   ]
  },
  {
   "cell_type": "code",
   "execution_count": 51,
   "metadata": {
    "collapsed": false
   },
   "outputs": [
    {
     "name": "stdout",
     "output_type": "stream",
     "text": [
      "<class 'pandas.core.frame.DataFrame'>\n",
      "RangeIndex: 25979 entries, 0 to 25978\n",
      "Data columns (total 34 columns):\n",
      "B365H        22592 non-null float64\n",
      "B365D        22592 non-null float64\n",
      "B365A        22592 non-null float64\n",
      "BWH          22575 non-null float64\n",
      "BWD          22575 non-null float64\n",
      "BWA          22575 non-null float64\n",
      "IWH          22520 non-null float64\n",
      "IWD          22520 non-null float64\n",
      "IWA          22520 non-null float64\n",
      "LBH          22556 non-null float64\n",
      "LBD          22556 non-null float64\n",
      "LBA          22556 non-null float64\n",
      "PSH          11168 non-null float64\n",
      "PSD          11168 non-null float64\n",
      "PSA          11168 non-null float64\n",
      "WHH          22571 non-null float64\n",
      "WHD          22571 non-null float64\n",
      "WHA          22571 non-null float64\n",
      "SJH          17097 non-null float64\n",
      "SJD          17097 non-null float64\n",
      "SJA          17097 non-null float64\n",
      "VCH          22568 non-null float64\n",
      "VCD          22568 non-null float64\n",
      "VCA          22568 non-null float64\n",
      "GBH          14162 non-null float64\n",
      "GBD          14162 non-null float64\n",
      "GBA          14162 non-null float64\n",
      "BSH          14161 non-null float64\n",
      "BSD          14161 non-null float64\n",
      "BSA          14161 non-null float64\n",
      "home_wins    25979 non-null bool\n",
      "year         25979 non-null int64\n",
      "month        25979 non-null int64\n",
      "day          25979 non-null int64\n",
      "dtypes: bool(1), float64(30), int64(3)\n",
      "memory usage: 6.6 MB\n"
     ]
    }
   ],
   "source": [
    "match_df.info()"
   ]
  },
  {
   "cell_type": "markdown",
   "metadata": {},
   "source": [
    "We see that both Gamebookers and Pinnacle have unusually high numbers of NaN. We decide to suppress them from the DB"
   ]
  },
  {
   "cell_type": "code",
   "execution_count": 52,
   "metadata": {
    "collapsed": false
   },
   "outputs": [],
   "source": [
    "match_df = match_df.drop(['GBH', 'GBD', 'GBA', 'PSH', 'PSD', 'PSA'], axis=1)\n",
    "match_df = match_df.drop(['SJH', 'SJD', 'SJA'], axis=1)"
   ]
  },
  {
   "cell_type": "code",
   "execution_count": 54,
   "metadata": {
    "collapsed": false
   },
   "outputs": [
    {
     "name": "stdout",
     "output_type": "stream",
     "text": [
      "<class 'pandas.core.frame.DataFrame'>\n",
      "RangeIndex: 25979 entries, 0 to 25978\n",
      "Data columns (total 25 columns):\n",
      "B365H        25979 non-null float64\n",
      "B365D        25979 non-null float64\n",
      "B365A        25979 non-null float64\n",
      "BWH          25979 non-null float64\n",
      "BWD          25979 non-null float64\n",
      "BWA          25979 non-null float64\n",
      "IWH          25979 non-null float64\n",
      "IWD          25979 non-null float64\n",
      "IWA          25979 non-null float64\n",
      "LBH          25979 non-null float64\n",
      "LBD          25979 non-null float64\n",
      "LBA          25979 non-null float64\n",
      "WHH          25979 non-null float64\n",
      "WHD          25979 non-null float64\n",
      "WHA          25979 non-null float64\n",
      "VCH          25979 non-null float64\n",
      "VCD          25979 non-null float64\n",
      "VCA          25979 non-null float64\n",
      "BSH          25979 non-null float64\n",
      "BSD          25979 non-null float64\n",
      "BSA          25979 non-null float64\n",
      "home_wins    25979 non-null bool\n",
      "year         25979 non-null int64\n",
      "month        25979 non-null int64\n",
      "day          25979 non-null int64\n",
      "dtypes: bool(1), float64(21), int64(3)\n",
      "memory usage: 4.8 MB\n"
     ]
    }
   ],
   "source": [
    "match_df = match_df.fillna(match_df.median())\n",
    "match_df.info()"
   ]
  },
  {
   "cell_type": "code",
   "execution_count": 59,
   "metadata": {
    "collapsed": true
   },
   "outputs": [],
   "source": [
    "match_df = shuffle(match_df)\n",
    "y_tot = match_df['home_wins']\n",
    "X_tot = match_df.drop('home_wins', axis=1)\n",
    "\n",
    "X_train, X_val, y_train, y_val = train_test_split(X_tot, y_tot, test_size=0.1)"
   ]
  },
  {
   "cell_type": "markdown",
   "metadata": {},
   "source": [
    "# Random Forest Classifiers"
   ]
  },
  {
   "cell_type": "code",
   "execution_count": 68,
   "metadata": {
    "collapsed": false
   },
   "outputs": [
    {
     "name": "stdout",
     "output_type": "stream",
     "text": [
      "Forest  5 out of 50 computed\n",
      "Forest  8 out of 50 computed\n",
      "Forest  12 out of 50 computed\n",
      "Forest  16 out of 50 computed\n",
      "Forest  20 out of 50 computed\n",
      "Forest  24 out of 50 computed\n",
      "Forest  28 out of 50 computed\n",
      "Forest  32 out of 50 computed\n",
      "Forest  36 out of 50 computed\n",
      "Forest  40 out of 50 computed\n",
      "Forest  44 out of 50 computed\n",
      "Forest  48 out of 50 computed\n",
      "Forest  52 out of 50 computed\n",
      "Forest  56 out of 50 computed\n",
      "Forest  60 out of 50 computed\n",
      "Forest  64 out of 50 computed\n",
      "Forest  68 out of 50 computed\n",
      "Forest  72 out of 50 computed\n",
      "Forest  76 out of 50 computed\n",
      "Forest  80 out of 50 computed\n",
      "Forest  84 out of 50 computed\n",
      "Forest  88 out of 50 computed\n",
      "Forest  92 out of 50 computed\n",
      "Forest  96 out of 50 computed\n",
      "Forest  100 out of 50 computed\n",
      "Forest  104 out of 50 computed\n",
      "Forest  108 out of 50 computed\n",
      "Forest  112 out of 50 computed\n",
      "Forest  116 out of 50 computed\n",
      "Forest  120 out of 50 computed\n",
      "Forest  124 out of 50 computed\n",
      "Forest  128 out of 50 computed\n",
      "Forest  132 out of 50 computed\n",
      "Forest  136 out of 50 computed\n",
      "Forest  140 out of 50 computed\n",
      "Forest  144 out of 50 computed\n",
      "Forest  148 out of 50 computed\n",
      "Forest  152 out of 50 computed\n",
      "Forest  156 out of 50 computed\n",
      "Forest  160 out of 50 computed\n",
      "Forest  164 out of 50 computed\n",
      "Forest  168 out of 50 computed\n",
      "Forest  172 out of 50 computed\n",
      "Forest  176 out of 50 computed\n",
      "Forest  180 out of 50 computed\n",
      "Forest  184 out of 50 computed\n",
      "Forest  188 out of 50 computed\n",
      "Forest  192 out of 50 computed\n",
      "Forest  196 out of 50 computed\n",
      "Forest  200 out of 50 computed\n"
     ]
    },
    {
     "data": {
      "text/plain": [
       "[<matplotlib.lines.Line2D at 0x1820adfb5c0>]"
      ]
     },
     "execution_count": 68,
     "metadata": {},
     "output_type": "execute_result"
    },
    {
     "data": {
      "image/png": "[encoded data removed]",
      "text/plain": [
       "<matplotlib.figure.Figure at 0x18207418d68>"
      ]
     },
     "metadata": {},
     "output_type": "display_data"
    }
   ],
   "source": [
    "n_trees = np.linspace(50, 200, num=25, dtype=int)\n",
    "scores = []\n",
    "for n in n_trees:\n",
    "    print('Forest ', n, 'out of 200 computed')\n",
    "    clf = RandomForestClassifier(n_estimators=n)\n",
    "    clf.fit(X_train, y_train)\n",
    "    scores.append(clf.score(X_val, y_val))\n",
    "plt.plot(n_trees, scores)"
   ]
  },
  {
   "cell_type": "markdown",
   "metadata": {},
   "source": [
    "We get with this method a maximal score of approx. 63.5%\n",
    "\n",
    "One idea to get a better model is to avoid overfitting by preventing trees from being too depth"
   ]
  },
  {
   "cell_type": "code",
   "execution_count": 73,
   "metadata": {
    "collapsed": false
   },
   "outputs": [
    {
     "data": {
      "text/plain": [
       "[]"
      ]
     },
     "execution_count": 73,
     "metadata": {},
     "output_type": "execute_result"
    }
   ],
   "source": [
    "[estimator.tree_.max_depth for estimator in clf.estimators_]"
   ]
  },
  {
   "cell_type": "code",
   "execution_count": 75,
   "metadata": {
    "collapsed": false
   },
   "outputs": [
    {
     "name": "stdout",
     "output_type": "stream",
     "text": [
      "Forest  50 out of 200 computed\n",
      "Forest  56 out of 200 computed\n",
      "Forest  62 out of 200 computed\n",
      "Forest  68 out of 200 computed\n",
      "Forest  75 out of 200 computed\n",
      "Forest  81 out of 200 computed\n",
      "Forest  87 out of 200 computed\n",
      "Forest  93 out of 200 computed\n",
      "Forest  100 out of 200 computed\n",
      "Forest  106 out of 200 computed\n",
      "Forest  112 out of 200 computed\n",
      "Forest  118 out of 200 computed\n",
      "Forest  125 out of 200 computed\n",
      "Forest  131 out of 200 computed\n",
      "Forest  137 out of 200 computed\n",
      "Forest  143 out of 200 computed\n",
      "Forest  150 out of 200 computed\n",
      "Forest  156 out of 200 computed\n",
      "Forest  162 out of 200 computed\n",
      "Forest  168 out of 200 computed\n",
      "Forest  175 out of 200 computed\n",
      "Forest  181 out of 200 computed\n",
      "Forest  187 out of 200 computed\n",
      "Forest  193 out of 200 computed\n",
      "Forest  200 out of 200 computed\n"
     ]
    },
    {
     "data": {
      "text/plain": [
       "[<matplotlib.lines.Line2D at 0x18206f3f358>]"
      ]
     },
     "execution_count": 75,
     "metadata": {},
     "output_type": "execute_result"
    },
    {
     "data": {
      "image/png": "[encoded data removed]",
      "text/plain": [
       "<matplotlib.figure.Figure at 0x18207425b38>"
      ]
     },
     "metadata": {},
     "output_type": "display_data"
    }
   ],
   "source": [
    "n_trees = np.linspace(50, 200, num=25, dtype=int)\n",
    "scores = []\n",
    "for n in n_trees:\n",
    "    print('Forest ', n, 'out of 200 computed')\n",
    "    clf = RandomForestClassifier(n_estimators=n, max_depth=35)\n",
    "    clf.fit(X_train, y_train)\n",
    "    scores.append(clf.score(X_val, y_val))\n",
    "plt.plot(n_trees, scores)"
   ]
  }
 ],
 "metadata": {
  "kernelspec": {
   "display_name": "Python 3",
   "language": "python",
   "name": "python3"
  },
  "language_info": {
   "codemirror_mode": {
    "name": "ipython",
    "version": 3
   },
   "file_extension": ".py",
   "mimetype": "text/x-python",
   "name": "python",
   "nbconvert_exporter": "python",
   "pygments_lexer": "ipython3",
   "version": "3.5.2"
  }
 },
 "nbformat": 4,
 "nbformat_minor": 2
}
