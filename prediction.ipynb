{
 "cells": [
  {
   "cell_type": "code",
   "execution_count": 22,
   "metadata": {
    "collapsed": true
   },
   "outputs": [],
   "source": [
    "%matplotlib inline\n",
    "\n",
    "import numpy as np\n",
    "import matplotlib.pyplot as plt\n",
    "import seaborn as sns\n",
    "import pandas as pd\n",
    "import sqlite3\n",
    "import numpy as np\n",
    "\n",
    "\n",
    "from sklearn.model_selection import train_test_split\n",
    "from sklearn.utils import shuffle\n",
    "from sklearn.ensemble import RandomForestClassifier, GradientBoostingClassifier\n",
    "from sklearn.preprocessing import scale, MinMaxScaler"
   ]
  },
  {
   "cell_type": "code",
   "execution_count": 2,
   "metadata": {
    "collapsed": false
   },
   "outputs": [],
   "source": [
    "conn = sqlite3.connect('soccer/database.sqlite')\n",
    "player_data = pd.read_sql(\"SELECT * FROM Player;\", conn)\n",
    "player_stats_data = pd.read_sql(\"SELECT * FROM Player_Attributes;\", conn)\n",
    "team_data = pd.read_sql(\"SELECT * FROM Team;\", conn)\n",
    "match_data = pd.read_sql(\"SELECT * FROM Match;\", conn)"
   ]
  },
  {
   "cell_type": "code",
   "execution_count": 3,
   "metadata": {
    "collapsed": false,
    "scrolled": true
   },
   "outputs": [
    {
     "name": "stdout",
     "output_type": "stream",
     "text": [
      "<class 'pandas.core.frame.DataFrame'>\n",
      "RangeIndex: 11060 entries, 0 to 11059\n",
      "Data columns (total 7 columns):\n",
      "id                    11060 non-null int64\n",
      "player_api_id         11060 non-null int64\n",
      "player_name           11060 non-null object\n",
      "player_fifa_api_id    11060 non-null int64\n",
      "birthday              11060 non-null object\n",
      "height                11060 non-null float64\n",
      "weight                11060 non-null int64\n",
      "dtypes: float64(1), int64(4), object(2)\n",
      "memory usage: 604.9+ KB\n",
      "None \n",
      "\n",
      "<class 'pandas.core.frame.DataFrame'>\n",
      "RangeIndex: 183978 entries, 0 to 183977\n",
      "Data columns (total 42 columns):\n",
      "id                     183978 non-null int64\n",
      "player_fifa_api_id     183978 non-null int64\n",
      "player_api_id          183978 non-null int64\n",
      "date                   183978 non-null object\n",
      "overall_rating         183142 non-null float64\n",
      "potential              183142 non-null float64\n",
      "preferred_foot         183142 non-null object\n",
      "attacking_work_rate    180748 non-null object\n",
      "defensive_work_rate    183142 non-null object\n",
      "crossing               183142 non-null float64\n",
      "finishing              183142 non-null float64\n",
      "heading_accuracy       183142 non-null float64\n",
      "short_passing          183142 non-null float64\n",
      "volleys                181265 non-null float64\n",
      "dribbling              183142 non-null float64\n",
      "curve                  181265 non-null float64\n",
      "free_kick_accuracy     183142 non-null float64\n",
      "long_passing           183142 non-null float64\n",
      "ball_control           183142 non-null float64\n",
      "acceleration           183142 non-null float64\n",
      "sprint_speed           183142 non-null float64\n",
      "agility                181265 non-null float64\n",
      "reactions              183142 non-null float64\n",
      "balance                181265 non-null float64\n",
      "shot_power             183142 non-null float64\n",
      "jumping                181265 non-null float64\n",
      "stamina                183142 non-null float64\n",
      "strength               183142 non-null float64\n",
      "long_shots             183142 non-null float64\n",
      "aggression             183142 non-null float64\n",
      "interceptions          183142 non-null float64\n",
      "positioning            183142 non-null float64\n",
      "vision                 181265 non-null float64\n",
      "penalties              183142 non-null float64\n",
      "marking                183142 non-null float64\n",
      "standing_tackle        183142 non-null float64\n",
      "sliding_tackle         181265 non-null float64\n",
      "gk_diving              183142 non-null float64\n",
      "gk_handling            183142 non-null float64\n",
      "gk_kicking             183142 non-null float64\n",
      "gk_positioning         183142 non-null float64\n",
      "gk_reflexes            183142 non-null float64\n",
      "dtypes: float64(35), int64(3), object(4)\n",
      "memory usage: 59.0+ MB\n",
      "None \n",
      "\n",
      "<class 'pandas.core.frame.DataFrame'>\n",
      "RangeIndex: 299 entries, 0 to 298\n",
      "Data columns (total 5 columns):\n",
      "id                  299 non-null int64\n",
      "team_api_id         299 non-null int64\n",
      "team_fifa_api_id    288 non-null float64\n",
      "team_long_name      299 non-null object\n",
      "team_short_name     299 non-null object\n",
      "dtypes: float64(1), int64(2), object(2)\n",
      "memory usage: 11.8+ KB\n",
      "None \n",
      "\n",
      "<class 'pandas.core.frame.DataFrame'>\n",
      "RangeIndex: 25979 entries, 0 to 25978\n",
      "Columns: 115 entries, id to BSA\n",
      "dtypes: float64(96), int64(9), object(10)\n",
      "memory usage: 22.8+ MB\n",
      "None\n"
     ]
    }
   ],
   "source": [
    "print(player_data.info(), '\\n')\n",
    "print(player_stats_data.info(), '\\n')\n",
    "print(team_data.info(), '\\n')\n",
    "print(match_data.info())"
   ]
  },
  {
   "cell_type": "code",
   "execution_count": 4,
   "metadata": {
    "collapsed": false
   },
   "outputs": [
    {
     "data": {
      "text/html": [
       "<div>\n",
       "<table border=\"1\" class=\"dataframe\">\n",
       "  <thead>\n",
       "    <tr style=\"text-align: right;\">\n",
       "      <th></th>\n",
       "      <th>id</th>\n",
       "      <th>country_id</th>\n",
       "      <th>league_id</th>\n",
       "      <th>season</th>\n",
       "      <th>stage</th>\n",
       "      <th>date</th>\n",
       "      <th>match_api_id</th>\n",
       "      <th>home_team_api_id</th>\n",
       "      <th>away_team_api_id</th>\n",
       "      <th>home_team_goal</th>\n",
       "      <th>...</th>\n",
       "      <th>SJA</th>\n",
       "      <th>VCH</th>\n",
       "      <th>VCD</th>\n",
       "      <th>VCA</th>\n",
       "      <th>GBH</th>\n",
       "      <th>GBD</th>\n",
       "      <th>GBA</th>\n",
       "      <th>BSH</th>\n",
       "      <th>BSD</th>\n",
       "      <th>BSA</th>\n",
       "    </tr>\n",
       "  </thead>\n",
       "  <tbody>\n",
       "    <tr>\n",
       "      <th>0</th>\n",
       "      <td>1</td>\n",
       "      <td>1</td>\n",
       "      <td>1</td>\n",
       "      <td>2008/2009</td>\n",
       "      <td>1</td>\n",
       "      <td>2008-08-17 00:00:00</td>\n",
       "      <td>492473</td>\n",
       "      <td>9987</td>\n",
       "      <td>9993</td>\n",
       "      <td>1</td>\n",
       "      <td>...</td>\n",
       "      <td>4.0</td>\n",
       "      <td>1.65</td>\n",
       "      <td>3.4</td>\n",
       "      <td>4.5</td>\n",
       "      <td>1.78</td>\n",
       "      <td>3.25</td>\n",
       "      <td>4.0</td>\n",
       "      <td>1.73</td>\n",
       "      <td>3.4</td>\n",
       "      <td>4.2</td>\n",
       "    </tr>\n",
       "  </tbody>\n",
       "</table>\n",
       "<p>1 rows × 115 columns</p>\n",
       "</div>"
      ],
      "text/plain": [
       "   id  country_id  league_id     season  stage                 date  \\\n",
       "0   1           1          1  2008/2009      1  2008-08-17 00:00:00   \n",
       "\n",
       "   match_api_id  home_team_api_id  away_team_api_id  home_team_goal ...   SJA  \\\n",
       "0        492473              9987              9993               1 ...   4.0   \n",
       "\n",
       "    VCH  VCD  VCA   GBH   GBD  GBA   BSH  BSD  BSA  \n",
       "0  1.65  3.4  4.5  1.78  3.25  4.0  1.73  3.4  4.2  \n",
       "\n",
       "[1 rows x 115 columns]"
      ]
     },
     "execution_count": 4,
     "metadata": {},
     "output_type": "execute_result"
    }
   ],
   "source": [
    "match_data.head(1)"
   ]
  },
  {
   "cell_type": "code",
   "execution_count": 5,
   "metadata": {
    "collapsed": false
   },
   "outputs": [
    {
     "data": {
      "text/plain": [
       "['id',\n",
       " 'country_id',\n",
       " 'league_id',\n",
       " 'season',\n",
       " 'stage',\n",
       " 'date',\n",
       " 'match_api_id',\n",
       " 'home_team_api_id',\n",
       " 'away_team_api_id',\n",
       " 'home_team_goal',\n",
       " 'away_team_goal',\n",
       " 'home_player_X1',\n",
       " 'home_player_X2',\n",
       " 'home_player_X3',\n",
       " 'home_player_X4',\n",
       " 'home_player_X5',\n",
       " 'home_player_X6',\n",
       " 'home_player_X7',\n",
       " 'home_player_X8',\n",
       " 'home_player_X9',\n",
       " 'home_player_X10',\n",
       " 'home_player_X11',\n",
       " 'away_player_X1',\n",
       " 'away_player_X2',\n",
       " 'away_player_X3',\n",
       " 'away_player_X4',\n",
       " 'away_player_X5',\n",
       " 'away_player_X6',\n",
       " 'away_player_X7',\n",
       " 'away_player_X8',\n",
       " 'away_player_X9',\n",
       " 'away_player_X10',\n",
       " 'away_player_X11',\n",
       " 'home_player_Y1',\n",
       " 'home_player_Y2',\n",
       " 'home_player_Y3',\n",
       " 'home_player_Y4',\n",
       " 'home_player_Y5',\n",
       " 'home_player_Y6',\n",
       " 'home_player_Y7',\n",
       " 'home_player_Y8',\n",
       " 'home_player_Y9',\n",
       " 'home_player_Y10',\n",
       " 'home_player_Y11',\n",
       " 'away_player_Y1',\n",
       " 'away_player_Y2',\n",
       " 'away_player_Y3',\n",
       " 'away_player_Y4',\n",
       " 'away_player_Y5',\n",
       " 'away_player_Y6',\n",
       " 'away_player_Y7',\n",
       " 'away_player_Y8',\n",
       " 'away_player_Y9',\n",
       " 'away_player_Y10',\n",
       " 'away_player_Y11',\n",
       " 'home_player_1',\n",
       " 'home_player_2',\n",
       " 'home_player_3',\n",
       " 'home_player_4',\n",
       " 'home_player_5',\n",
       " 'home_player_6',\n",
       " 'home_player_7',\n",
       " 'home_player_8',\n",
       " 'home_player_9',\n",
       " 'home_player_10',\n",
       " 'home_player_11',\n",
       " 'away_player_1',\n",
       " 'away_player_2',\n",
       " 'away_player_3',\n",
       " 'away_player_4',\n",
       " 'away_player_5',\n",
       " 'away_player_6',\n",
       " 'away_player_7',\n",
       " 'away_player_8',\n",
       " 'away_player_9',\n",
       " 'away_player_10',\n",
       " 'away_player_11',\n",
       " 'goal',\n",
       " 'shoton',\n",
       " 'shotoff',\n",
       " 'foulcommit',\n",
       " 'card',\n",
       " 'cross',\n",
       " 'corner',\n",
       " 'possession',\n",
       " 'B365H',\n",
       " 'B365D',\n",
       " 'B365A',\n",
       " 'BWH',\n",
       " 'BWD',\n",
       " 'BWA',\n",
       " 'IWH',\n",
       " 'IWD',\n",
       " 'IWA',\n",
       " 'LBH',\n",
       " 'LBD',\n",
       " 'LBA',\n",
       " 'PSH',\n",
       " 'PSD',\n",
       " 'PSA',\n",
       " 'WHH',\n",
       " 'WHD',\n",
       " 'WHA',\n",
       " 'SJH',\n",
       " 'SJD',\n",
       " 'SJA',\n",
       " 'VCH',\n",
       " 'VCD',\n",
       " 'VCA',\n",
       " 'GBH',\n",
       " 'GBD',\n",
       " 'GBA',\n",
       " 'BSH',\n",
       " 'BSD',\n",
       " 'BSA']"
      ]
     },
     "execution_count": 5,
     "metadata": {},
     "output_type": "execute_result"
    }
   ],
   "source": [
    "list(match_data)"
   ]
  },
  {
   "cell_type": "code",
   "execution_count": 6,
   "metadata": {
    "collapsed": false
   },
   "outputs": [],
   "source": [
    "features = ['home_team_goal', \n",
    "        'away_team_goal', \n",
    "        'date', \n",
    "        'B365H',\n",
    "        'B365D',\n",
    "        'B365A',\n",
    "        'BWH',\n",
    "        'BWD',\n",
    "        'BWA',\n",
    "        'IWH',\n",
    "        'IWD',\n",
    "        'IWA',\n",
    "        'LBH',\n",
    "        'LBD',\n",
    "        'LBA',\n",
    "        'PSH',\n",
    "        'PSD',\n",
    "        'PSA',\n",
    "        'WHH',\n",
    "        'WHD',\n",
    "        'WHA',\n",
    "        'SJH',\n",
    "        'SJD',\n",
    "        'SJA',\n",
    "        'VCH',\n",
    "        'VCD',\n",
    "        'VCA',\n",
    "        'GBH',\n",
    "        'GBD',\n",
    "        'GBA',\n",
    "        'BSH',\n",
    "        'BSD',\n",
    "        'BSA']\n",
    "match_df = match_data[features].copy()"
   ]
  },
  {
   "cell_type": "code",
   "execution_count": 7,
   "metadata": {
    "collapsed": false
   },
   "outputs": [],
   "source": [
    "# Computing value to predict\n",
    "match_df['home_wins'] = np.where(match_df['home_team_goal'] > match_df['away_team_goal'], True, False)\n",
    "match_df = match_df.drop(['home_team_goal', 'away_team_goal'], axis=1)"
   ]
  },
  {
   "cell_type": "code",
   "execution_count": 8,
   "metadata": {
    "collapsed": false
   },
   "outputs": [],
   "source": [
    "# Converting date properly\n",
    "match_df[\"date\"] = pd.to_datetime(match_df[\"date\"])\n",
    "match_df[\"year\"] = match_df[\"date\"].dt.year\n",
    "match_df[\"month\"] = match_df[\"date\"].dt.month\n",
    "match_df[\"day\"] = match_df[\"date\"].dt.day\n",
    "match_df = match_df.drop(\"date\", axis=1)"
   ]
  },
  {
   "cell_type": "code",
   "execution_count": 10,
   "metadata": {
    "collapsed": false
   },
   "outputs": [
    {
     "name": "stdout",
     "output_type": "stream",
     "text": [
      "<class 'pandas.core.frame.DataFrame'>\n",
      "RangeIndex: 25979 entries, 0 to 25978\n",
      "Data columns (total 34 columns):\n",
      "B365H        22592 non-null float64\n",
      "B365D        22592 non-null float64\n",
      "B365A        22592 non-null float64\n",
      "BWH          22575 non-null float64\n",
      "BWD          22575 non-null float64\n",
      "BWA          22575 non-null float64\n",
      "IWH          22520 non-null float64\n",
      "IWD          22520 non-null float64\n",
      "IWA          22520 non-null float64\n",
      "LBH          22556 non-null float64\n",
      "LBD          22556 non-null float64\n",
      "LBA          22556 non-null float64\n",
      "PSH          11168 non-null float64\n",
      "PSD          11168 non-null float64\n",
      "PSA          11168 non-null float64\n",
      "WHH          22571 non-null float64\n",
      "WHD          22571 non-null float64\n",
      "WHA          22571 non-null float64\n",
      "SJH          17097 non-null float64\n",
      "SJD          17097 non-null float64\n",
      "SJA          17097 non-null float64\n",
      "VCH          22568 non-null float64\n",
      "VCD          22568 non-null float64\n",
      "VCA          22568 non-null float64\n",
      "GBH          14162 non-null float64\n",
      "GBD          14162 non-null float64\n",
      "GBA          14162 non-null float64\n",
      "BSH          14161 non-null float64\n",
      "BSD          14161 non-null float64\n",
      "BSA          14161 non-null float64\n",
      "home_wins    25979 non-null bool\n",
      "year         25979 non-null int64\n",
      "month        25979 non-null int64\n",
      "day          25979 non-null int64\n",
      "dtypes: bool(1), float64(30), int64(3)\n",
      "memory usage: 6.6 MB\n"
     ]
    }
   ],
   "source": [
    "match_df.info()"
   ]
  },
  {
   "cell_type": "markdown",
   "metadata": {},
   "source": [
    "We see that both Gamebookers and Pinnacle have unusually high numbers of NaN. We decide to suppress them from the DB"
   ]
  },
  {
   "cell_type": "code",
   "execution_count": 11,
   "metadata": {
    "collapsed": false
   },
   "outputs": [],
   "source": [
    "# match_df = scale(match_df)\n",
    "# for i in range(30):\n",
    "#     indices = pd.notnull(match_df[[i]])\n",
    "#     match_df[[i]][indices] = scale(match_df[[i]][indices])\n",
    "    #match_df[[i]][indices] = (match_df[[i]][indices] - match_df[[i]][indices].match_d"
   ]
  },
  {
   "cell_type": "code",
   "execution_count": 12,
   "metadata": {
    "collapsed": false
   },
   "outputs": [],
   "source": [
    "# match_df = match_df.drop(['GBH', 'GBD', 'GBA'], axis=1)\n",
    "# match_df = match_df.drop(['SJH', 'SJD', 'SJA'], axis=1)\n",
    "match_df = match_df.drop(['PSH', 'PSD', 'PSA'], axis=1)"
   ]
  },
  {
   "cell_type": "code",
   "execution_count": 13,
   "metadata": {
    "collapsed": false
   },
   "outputs": [],
   "source": [
    "# First method: replace NaN by median\n",
    "# match_df = match_df.fillna(match_df.median())\n",
    "# match_df.info()\n",
    "\n",
    "# Hybrid 2nd method\n",
    "match_df = match_df.dropna(axis=0, subset=['SJH'])\n",
    "match_df = match_df.fillna(match_df.median())"
   ]
  },
  {
   "cell_type": "code",
   "execution_count": 14,
   "metadata": {
    "collapsed": true
   },
   "outputs": [],
   "source": [
    "match_df = shuffle(match_df)\n",
    "y_tot = match_df['home_wins']\n",
    "X_tot = match_df.drop('home_wins', axis=1)\n",
    "\n",
    "X_train, X_val, y_train, y_val = train_test_split(X_tot, y_tot, test_size=0.1)"
   ]
  },
  {
   "cell_type": "markdown",
   "metadata": {},
   "source": [
    "# Random Forest Classifiers"
   ]
  },
  {
   "cell_type": "code",
   "execution_count": 15,
   "metadata": {
    "collapsed": false
   },
   "outputs": [
    {
     "name": "stdout",
     "output_type": "stream",
     "text": [
      "Forest  50 out of 200 computed\n",
      "Forest  56 out of 200 computed\n",
      "Forest  62 out of 200 computed\n",
      "Forest  68 out of 200 computed\n",
      "Forest  75 out of 200 computed\n",
      "Forest  81 out of 200 computed\n",
      "Forest  87 out of 200 computed\n",
      "Forest  93 out of 200 computed\n",
      "Forest  100 out of 200 computed\n",
      "Forest  106 out of 200 computed\n",
      "Forest  112 out of 200 computed\n",
      "Forest  118 out of 200 computed\n",
      "Forest  125 out of 200 computed\n",
      "Forest  131 out of 200 computed\n",
      "Forest  137 out of 200 computed\n",
      "Forest  143 out of 200 computed\n",
      "Forest  150 out of 200 computed\n",
      "Forest  156 out of 200 computed\n",
      "Forest  162 out of 200 computed\n",
      "Forest  168 out of 200 computed\n",
      "Forest  175 out of 200 computed\n",
      "Forest  181 out of 200 computed\n",
      "Forest  187 out of 200 computed\n",
      "Forest  193 out of 200 computed\n",
      "Forest  200 out of 200 computed\n"
     ]
    },
    {
     "data": {
      "text/plain": [
       "[<matplotlib.lines.Line2D at 0x166c26f3080>]"
      ]
     },
     "execution_count": 15,
     "metadata": {},
     "output_type": "execute_result"
    },
    {
     "data": {
      "image/png": "[encoded data removed]",
      "text/plain": [
       "<matplotlib.figure.Figure at 0x166c26183c8>"
      ]
     },
     "metadata": {},
     "output_type": "display_data"
    }
   ],
   "source": [
    "n_trees = np.linspace(50, 200, num=25, dtype=int)\n",
    "scores = []\n",
    "for n in n_trees:\n",
    "    print('Forest ', n, 'out of 200 computed')\n",
    "    clf = RandomForestClassifier(n_estimators=n)\n",
    "    clf.fit(X_train, y_train)\n",
    "    scores.append(clf.score(X_val, y_val))\n",
    "plt.plot(n_trees, scores)"
   ]
  },
  {
   "cell_type": "markdown",
   "metadata": {},
   "source": [
    "We get with this method a maximal score of approx. 63.5%\n",
    "\n",
    "One idea to get a better model is to avoid overfitting by preventing trees from being too depth"
   ]
  },
  {
   "cell_type": "code",
   "execution_count": 16,
   "metadata": {
    "collapsed": false
   },
   "outputs": [
    {
     "data": {
      "text/plain": [
       "[38,\n",
       " 33,\n",
       " 32,\n",
       " 36,\n",
       " 36,\n",
       " 37,\n",
       " 35,\n",
       " 32,\n",
       " 36,\n",
       " 35,\n",
       " 34,\n",
       " 37,\n",
       " 39,\n",
       " 37,\n",
       " 42,\n",
       " 40,\n",
       " 34,\n",
       " 30,\n",
       " 37,\n",
       " 37,\n",
       " 37,\n",
       " 42,\n",
       " 43,\n",
       " 37,\n",
       " 40,\n",
       " 39,\n",
       " 37,\n",
       " 32,\n",
       " 39,\n",
       " 35,\n",
       " 39,\n",
       " 38,\n",
       " 31,\n",
       " 39,\n",
       " 34,\n",
       " 32,\n",
       " 39,\n",
       " 38,\n",
       " 32,\n",
       " 40,\n",
       " 38,\n",
       " 35,\n",
       " 30,\n",
       " 36,\n",
       " 31,\n",
       " 33,\n",
       " 33,\n",
       " 37,\n",
       " 34,\n",
       " 38,\n",
       " 35,\n",
       " 43,\n",
       " 35,\n",
       " 35,\n",
       " 33,\n",
       " 35,\n",
       " 36,\n",
       " 37,\n",
       " 33,\n",
       " 36,\n",
       " 36,\n",
       " 36,\n",
       " 40,\n",
       " 33,\n",
       " 33,\n",
       " 38,\n",
       " 42,\n",
       " 35,\n",
       " 43,\n",
       " 33,\n",
       " 37,\n",
       " 40,\n",
       " 34,\n",
       " 33,\n",
       " 31,\n",
       " 33,\n",
       " 45,\n",
       " 36,\n",
       " 34,\n",
       " 35,\n",
       " 35,\n",
       " 39,\n",
       " 37,\n",
       " 40,\n",
       " 35,\n",
       " 32,\n",
       " 39,\n",
       " 34,\n",
       " 31,\n",
       " 35,\n",
       " 30,\n",
       " 35,\n",
       " 40,\n",
       " 41,\n",
       " 40,\n",
       " 44,\n",
       " 32,\n",
       " 34,\n",
       " 36,\n",
       " 40,\n",
       " 39,\n",
       " 35,\n",
       " 38,\n",
       " 39,\n",
       " 41,\n",
       " 41,\n",
       " 44,\n",
       " 41,\n",
       " 37,\n",
       " 39,\n",
       " 38,\n",
       " 34,\n",
       " 40,\n",
       " 40,\n",
       " 37,\n",
       " 35,\n",
       " 39,\n",
       " 39,\n",
       " 29,\n",
       " 33,\n",
       " 42,\n",
       " 29,\n",
       " 38,\n",
       " 34,\n",
       " 34,\n",
       " 41,\n",
       " 41,\n",
       " 34,\n",
       " 38,\n",
       " 41,\n",
       " 41,\n",
       " 40,\n",
       " 35,\n",
       " 37,\n",
       " 33,\n",
       " 37,\n",
       " 43,\n",
       " 33,\n",
       " 32,\n",
       " 38,\n",
       " 39,\n",
       " 41,\n",
       " 34,\n",
       " 33,\n",
       " 33,\n",
       " 32,\n",
       " 35,\n",
       " 36,\n",
       " 42,\n",
       " 38,\n",
       " 32,\n",
       " 45,\n",
       " 34,\n",
       " 39,\n",
       " 38,\n",
       " 47,\n",
       " 36,\n",
       " 45,\n",
       " 39,\n",
       " 37,\n",
       " 37,\n",
       " 41,\n",
       " 35,\n",
       " 32,\n",
       " 36,\n",
       " 36,\n",
       " 34,\n",
       " 37,\n",
       " 40,\n",
       " 37,\n",
       " 43,\n",
       " 34,\n",
       " 33,\n",
       " 34,\n",
       " 37,\n",
       " 39,\n",
       " 36,\n",
       " 38,\n",
       " 35,\n",
       " 36,\n",
       " 40,\n",
       " 32,\n",
       " 39,\n",
       " 34,\n",
       " 43,\n",
       " 37,\n",
       " 39,\n",
       " 35,\n",
       " 35,\n",
       " 39,\n",
       " 33,\n",
       " 43,\n",
       " 37,\n",
       " 39,\n",
       " 37,\n",
       " 37,\n",
       " 38,\n",
       " 38,\n",
       " 32,\n",
       " 42]"
      ]
     },
     "execution_count": 16,
     "metadata": {},
     "output_type": "execute_result"
    }
   ],
   "source": [
    "[estimator.tree_.max_depth for estimator in clf.estimators_]"
   ]
  },
  {
   "cell_type": "code",
   "execution_count": 17,
   "metadata": {
    "collapsed": false
   },
   "outputs": [
    {
     "name": "stdout",
     "output_type": "stream",
     "text": [
      "Forest  50 out of 200 computed\n",
      "Forest  56 out of 200 computed\n",
      "Forest  62 out of 200 computed\n",
      "Forest  68 out of 200 computed\n",
      "Forest  75 out of 200 computed\n",
      "Forest  81 out of 200 computed\n",
      "Forest  87 out of 200 computed\n",
      "Forest  93 out of 200 computed\n",
      "Forest  100 out of 200 computed\n",
      "Forest  106 out of 200 computed\n",
      "Forest  112 out of 200 computed\n",
      "Forest  118 out of 200 computed\n",
      "Forest  125 out of 200 computed\n",
      "Forest  131 out of 200 computed\n",
      "Forest  137 out of 200 computed\n",
      "Forest  143 out of 200 computed\n",
      "Forest  150 out of 200 computed\n",
      "Forest  156 out of 200 computed\n",
      "Forest  162 out of 200 computed\n",
      "Forest  168 out of 200 computed\n",
      "Forest  175 out of 200 computed\n",
      "Forest  181 out of 200 computed\n",
      "Forest  187 out of 200 computed\n",
      "Forest  193 out of 200 computed\n",
      "Forest  200 out of 200 computed\n"
     ]
    },
    {
     "data": {
      "text/plain": [
       "[<matplotlib.lines.Line2D at 0x166c23e0240>]"
      ]
     },
     "execution_count": 17,
     "metadata": {},
     "output_type": "execute_result"
    },
    {
     "data": {
      "image/png": "[encoded data removed]",
      "text/plain": [
       "<matplotlib.figure.Figure at 0x166c249f940>"
      ]
     },
     "metadata": {},
     "output_type": "display_data"
    }
   ],
   "source": [
    "n_trees = np.linspace(50, 200, num=25, dtype=int)\n",
    "scores = []\n",
    "for n in n_trees:\n",
    "    print('Forest ', n, 'out of 200 computed')\n",
    "    clf = RandomForestClassifier(n_estimators=n, max_depth=35)\n",
    "    clf.fit(X_train, y_train)\n",
    "    scores.append(clf.score(X_val, y_val))\n",
    "plt.plot(n_trees, scores)"
   ]
  },
  {
   "cell_type": "markdown",
   "metadata": {},
   "source": [
    "Sans normalisation et sans remplacer les grosses données manquantes : score 0.635"
   ]
  },
  {
   "cell_type": "code",
   "execution_count": 21,
   "metadata": {
    "collapsed": false
   },
   "outputs": [],
   "source": [
    "# Finding best value to keep\n",
    "n_RF = n_trees[np.argmax(np.array(scores))]\n",
    "score_RF = max(scores) "
   ]
  },
  {
   "cell_type": "markdown",
   "metadata": {},
   "source": [
    "# Boosting Classifiers"
   ]
  },
  {
   "cell_type": "code",
   "execution_count": 24,
   "metadata": {
    "collapsed": false
   },
   "outputs": [
    {
     "name": "stdout",
     "output_type": "stream",
     "text": [
      "0.653216374269\n"
     ]
    }
   ],
   "source": [
    "# Basic use\n",
    "clf_boost = GradientBoostingClassifier()\n",
    "clf_boost.fit(X_train, y_train)\n",
    "print(clf_boost.score(X_val, y_val))"
   ]
  },
  {
   "cell_type": "code",
   "execution_count": 30,
   "metadata": {
    "collapsed": false
   },
   "outputs": [
    {
     "name": "stdout",
     "output_type": "stream",
     "text": [
      "0.657894736842\n"
     ]
    }
   ],
   "source": [
    "# Fiddling with parameters\n",
    "clf_boost = GradientBoostingClassifier(n_estimators=200, learning_rate=0.05)\n",
    "clf_boost.fit(X_train, y_train)\n",
    "print(clf_boost.score(X_val, y_val))"
   ]
  },
  {
   "cell_type": "markdown",
   "metadata": {},
   "source": [
    "Boosting seems to offer significantly better results. That is why we decide to use it on the overall dataset."
   ]
  },
  {
   "cell_type": "code",
   "execution_count": 31,
   "metadata": {
    "collapsed": false
   },
   "outputs": [
    {
     "data": {
      "text/plain": [
       "GradientBoostingClassifier(criterion='friedman_mse', init=None,\n",
       "              learning_rate=0.05, loss='deviance', max_depth=3,\n",
       "              max_features=None, max_leaf_nodes=None,\n",
       "              min_impurity_split=1e-07, min_samples_leaf=1,\n",
       "              min_samples_split=2, min_weight_fraction_leaf=0.0,\n",
       "              n_estimators=200, presort='auto', random_state=None,\n",
       "              subsample=1.0, verbose=0, warm_start=False)"
      ]
     },
     "execution_count": 31,
     "metadata": {},
     "output_type": "execute_result"
    }
   ],
   "source": [
    "clf_final = GradientBoostingClassifier(n_estimators=200, learning_rate=0.05)\n",
    "clf_final.fit(X_tot, y_tot)"
   ]
  }
 ],
 "metadata": {
  "kernelspec": {
   "display_name": "Python 3",
   "language": "python",
   "name": "python3"
  },
  "language_info": {
   "codemirror_mode": {
    "name": "ipython",
    "version": 3
   },
   "file_extension": ".py",
   "mimetype": "text/x-python",
   "name": "python",
   "nbconvert_exporter": "python",
   "pygments_lexer": "ipython3",
   "version": "3.5.2"
  }
 },
 "nbformat": 4,
 "nbformat_minor": 2
}
